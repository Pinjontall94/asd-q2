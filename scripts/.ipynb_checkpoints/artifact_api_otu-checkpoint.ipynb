{
 "cells": [
  {
   "cell_type": "markdown",
   "id": "30505f3e",
   "metadata": {},
   "source": [
    "## Artifact API OTU Clustering"
   ]
  },
  {
   "cell_type": "code",
   "execution_count": 1,
   "id": "6854dbe5",
   "metadata": {},
   "outputs": [],
   "source": [
    "from qiime2 import Artifact\n",
    "from qiime2.plugins.vsearch.methods import join_pairs, \\\n",
    "dereplicate_sequences, cluster_features_de_novo\n",
    "from qiime2.plugins import feature_table"
   ]
  },
  {
   "cell_type": "markdown",
   "id": "abecd8f3",
   "metadata": {},
   "source": [
    "Import artifact into python environment"
   ]
  },
  {
   "cell_type": "code",
   "execution_count": 4,
   "id": "730fe76e",
   "metadata": {
    "scrolled": true
   },
   "outputs": [
    {
     "name": "stdout",
     "output_type": "stream",
     "text": [
      "Running external command line application. This may print messages to stdout and/or stderr.\n",
      "The command being run is below. This command cannot be manually re-run as it will depend on temporary files that no longer exist.\n",
      "\n",
      "Command: vsearch --fastq_mergepairs /tmp/qiime2-archive-b0joz2wg/930b1e9f-dff8-4d7f-bb31-85766de2fe03/data/SRR10007909_0_L001_R1_001.fastq.gz --reverse /tmp/qiime2-archive-b0joz2wg/930b1e9f-dff8-4d7f-bb31-85766de2fe03/data/SRR10007909_4_L001_R2_001.fastq.gz --fastqout /tmp/q2-SingleLanePerSampleSingleEndFastqDirFmt-_1d4ix_4/SRR10007909_0_L001_R1_001.fastq --fastq_ascii 33 --fastq_minlen 1 --fastq_minovlen 10 --fastq_maxdiffs 10 --fastq_qmin 0 --fastq_qminout 0 --fastq_qmax 41 --fastq_qmaxout 41 --minseqlength 1 --fasta_width 0 --threads 1\n",
      "\n"
     ]
    },
    {
     "name": "stderr",
     "output_type": "stream",
     "text": [
      "vsearch v2.7.0_linux_x86_64, 7.6GB RAM, 8 cores\n",
      "https://github.com/torognes/vsearch\n",
      "\n",
      "Merging reads 100%\n",
      "     49182  Pairs\n",
      "     48653  Merged (98.9%)\n",
      "       529  Not merged (1.1%)\n",
      "\n",
      "Pairs that failed merging due to various reasons:\n",
      "         9  too few kmers found on same diagonal\n",
      "        25  potential tandem repeat\n",
      "       266  too many differences\n",
      "       226  alignment score too low, or score drop to high\n",
      "         3  staggered read pairs\n",
      "\n",
      "Statistics of all reads:\n",
      "    250.30  Mean read length\n",
      "\n",
      "Statistics of merged reads:\n",
      "    299.32  Mean fragment length\n",
      "      9.33  Standard deviation of fragment length\n",
      "      0.17  Mean expected error in forward sequences\n",
      "      0.33  Mean expected error in reverse sequences\n",
      "      0.13  Mean expected error in merged sequences\n",
      "      0.24  Mean observed errors in merged region of forward sequences\n",
      "      0.50  Mean observed errors in merged region of reverse sequences\n",
      "      0.74  Mean observed errors in merged region\n"
     ]
    },
    {
     "name": "stdout",
     "output_type": "stream",
     "text": [
      "Running external command line application. This may print messages to stdout and/or stderr.\n",
      "The command being run is below. This command cannot be manually re-run as it will depend on temporary files that no longer exist.\n",
      "\n",
      "Command: gzip /tmp/q2-SingleLanePerSampleSingleEndFastqDirFmt-_1d4ix_4/SRR10007909_0_L001_R1_001.fastq\n",
      "\n",
      "Running external command line application. This may print messages to stdout and/or stderr.\n",
      "The command being run is below. This command cannot be manually re-run as it will depend on temporary files that no longer exist.\n",
      "\n",
      "Command: vsearch --fastq_mergepairs /tmp/qiime2-archive-b0joz2wg/930b1e9f-dff8-4d7f-bb31-85766de2fe03/data/SRR10007910_1_L001_R1_001.fastq.gz --reverse /tmp/qiime2-archive-b0joz2wg/930b1e9f-dff8-4d7f-bb31-85766de2fe03/data/SRR10007910_5_L001_R2_001.fastq.gz --fastqout /tmp/q2-SingleLanePerSampleSingleEndFastqDirFmt-_1d4ix_4/SRR10007910_1_L001_R1_001.fastq --fastq_ascii 33 --fastq_minlen 1 --fastq_minovlen 10 --fastq_maxdiffs 10 --fastq_qmin 0 --fastq_qminout 0 --fastq_qmax 41 --fastq_qmaxout 41 --minseqlength 1 --fasta_width 0 --threads 1\n",
      "\n"
     ]
    },
    {
     "name": "stderr",
     "output_type": "stream",
     "text": [
      "vsearch v2.7.0_linux_x86_64, 7.6GB RAM, 8 cores\n",
      "https://github.com/torognes/vsearch\n",
      "\n",
      "Merging reads 100%\n",
      "     58135  Pairs\n",
      "     57110  Merged (98.2%)\n",
      "      1025  Not merged (1.8%)\n",
      "\n",
      "Pairs that failed merging due to various reasons:\n",
      "         8  too few kmers found on same diagonal\n",
      "        37  potential tandem repeat\n",
      "       479  too many differences\n",
      "       498  alignment score too low, or score drop to high\n",
      "         3  staggered read pairs\n",
      "\n",
      "Statistics of all reads:\n",
      "    250.28  Mean read length\n",
      "\n",
      "Statistics of merged reads:\n",
      "    299.13  Mean fragment length\n",
      "      9.24  Standard deviation of fragment length\n",
      "      0.17  Mean expected error in forward sequences\n",
      "      0.34  Mean expected error in reverse sequences\n",
      "      0.14  Mean expected error in merged sequences\n",
      "      0.25  Mean observed errors in merged region of forward sequences\n",
      "      0.55  Mean observed errors in merged region of reverse sequences\n",
      "      0.80  Mean observed errors in merged region\n"
     ]
    },
    {
     "name": "stdout",
     "output_type": "stream",
     "text": [
      "Running external command line application. This may print messages to stdout and/or stderr.\n",
      "The command being run is below. This command cannot be manually re-run as it will depend on temporary files that no longer exist.\n",
      "\n",
      "Command: gzip /tmp/q2-SingleLanePerSampleSingleEndFastqDirFmt-_1d4ix_4/SRR10007910_1_L001_R1_001.fastq\n",
      "\n",
      "Running external command line application. This may print messages to stdout and/or stderr.\n",
      "The command being run is below. This command cannot be manually re-run as it will depend on temporary files that no longer exist.\n",
      "\n",
      "Command: vsearch --fastq_mergepairs /tmp/qiime2-archive-b0joz2wg/930b1e9f-dff8-4d7f-bb31-85766de2fe03/data/SRR10007911_2_L001_R1_001.fastq.gz --reverse /tmp/qiime2-archive-b0joz2wg/930b1e9f-dff8-4d7f-bb31-85766de2fe03/data/SRR10007911_6_L001_R2_001.fastq.gz --fastqout /tmp/q2-SingleLanePerSampleSingleEndFastqDirFmt-_1d4ix_4/SRR10007911_2_L001_R1_001.fastq --fastq_ascii 33 --fastq_minlen 1 --fastq_minovlen 10 --fastq_maxdiffs 10 --fastq_qmin 0 --fastq_qminout 0 --fastq_qmax 41 --fastq_qmaxout 41 --minseqlength 1 --fasta_width 0 --threads 1\n",
      "\n"
     ]
    },
    {
     "name": "stderr",
     "output_type": "stream",
     "text": [
      "vsearch v2.7.0_linux_x86_64, 7.6GB RAM, 8 cores\n",
      "https://github.com/torognes/vsearch\n",
      "\n",
      "Merging reads 100%\n",
      "     77122  Pairs\n",
      "     75916  Merged (98.4%)\n",
      "      1206  Not merged (1.6%)\n",
      "\n",
      "Pairs that failed merging due to various reasons:\n",
      "        13  too few kmers found on same diagonal\n",
      "        34  potential tandem repeat\n",
      "       540  too many differences\n",
      "       602  alignment score too low, or score drop to high\n",
      "        17  staggered read pairs\n",
      "\n",
      "Statistics of all reads:\n",
      "    250.29  Mean read length\n",
      "\n",
      "Statistics of merged reads:\n",
      "    298.87  Mean fragment length\n",
      "      9.90  Standard deviation of fragment length\n",
      "      0.16  Mean expected error in forward sequences\n",
      "      0.35  Mean expected error in reverse sequences\n",
      "      0.13  Mean expected error in merged sequences\n",
      "      0.23  Mean observed errors in merged region of forward sequences\n",
      "      0.54  Mean observed errors in merged region of reverse sequences\n",
      "      0.77  Mean observed errors in merged region\n"
     ]
    },
    {
     "name": "stdout",
     "output_type": "stream",
     "text": [
      "Running external command line application. This may print messages to stdout and/or stderr.\n",
      "The command being run is below. This command cannot be manually re-run as it will depend on temporary files that no longer exist.\n",
      "\n",
      "Command: gzip /tmp/q2-SingleLanePerSampleSingleEndFastqDirFmt-_1d4ix_4/SRR10007911_2_L001_R1_001.fastq\n",
      "\n",
      "Running external command line application. This may print messages to stdout and/or stderr.\n",
      "The command being run is below. This command cannot be manually re-run as it will depend on temporary files that no longer exist.\n",
      "\n",
      "Command: vsearch --fastq_mergepairs /tmp/qiime2-archive-b0joz2wg/930b1e9f-dff8-4d7f-bb31-85766de2fe03/data/SRR10007912_3_L001_R1_001.fastq.gz --reverse /tmp/qiime2-archive-b0joz2wg/930b1e9f-dff8-4d7f-bb31-85766de2fe03/data/SRR10007912_7_L001_R2_001.fastq.gz --fastqout /tmp/q2-SingleLanePerSampleSingleEndFastqDirFmt-_1d4ix_4/SRR10007912_3_L001_R1_001.fastq --fastq_ascii 33 --fastq_minlen 1 --fastq_minovlen 10 --fastq_maxdiffs 10 --fastq_qmin 0 --fastq_qminout 0 --fastq_qmax 41 --fastq_qmaxout 41 --minseqlength 1 --fasta_width 0 --threads 1\n",
      "\n"
     ]
    },
    {
     "name": "stderr",
     "output_type": "stream",
     "text": [
      "vsearch v2.7.0_linux_x86_64, 7.6GB RAM, 8 cores\n",
      "https://github.com/torognes/vsearch\n",
      "\n",
      "Merging reads 100%\n",
      "    124716  Pairs\n",
      "    122657  Merged (98.3%)\n",
      "      2059  Not merged (1.7%)\n",
      "\n",
      "Pairs that failed merging due to various reasons:\n",
      "        14  too few kmers found on same diagonal\n",
      "        72  potential tandem repeat\n",
      "       978  too many differences\n",
      "       991  alignment score too low, or score drop to high\n",
      "         4  staggered read pairs\n",
      "\n",
      "Statistics of all reads:\n",
      "    250.35  Mean read length\n",
      "\n",
      "Statistics of merged reads:\n",
      "    299.55  Mean fragment length\n",
      "      9.04  Standard deviation of fragment length\n",
      "      0.16  Mean expected error in forward sequences\n",
      "      0.32  Mean expected error in reverse sequences\n",
      "      0.14  Mean expected error in merged sequences\n",
      "      0.25  Mean observed errors in merged region of forward sequences\n",
      "      0.48  Mean observed errors in merged region of reverse sequences\n",
      "      0.74  Mean observed errors in merged region\n"
     ]
    },
    {
     "name": "stdout",
     "output_type": "stream",
     "text": [
      "Running external command line application. This may print messages to stdout and/or stderr.\n",
      "The command being run is below. This command cannot be manually re-run as it will depend on temporary files that no longer exist.\n",
      "\n",
      "Command: gzip /tmp/q2-SingleLanePerSampleSingleEndFastqDirFmt-_1d4ix_4/SRR10007912_3_L001_R1_001.fastq\n",
      "\n"
     ]
    }
   ],
   "source": [
    "demux_seqs = Artifact.load('test-paired-end-demux.qza')\n",
    "merged_seq = join_pairs(demux_seqs)\n",
    "derep_seq = dereplicate_sequences(merged_seq)\n",
    "\n",
    "otu = cluster_features_de_novo(sequences=derep_seq,\n",
    "                              table=derep_seq.table,\n",
    "                              perc_identity=0.99)\n",
    "\n",
    "otu_table = feature_table.visualizers.summarize(t)\n",
    "\n",
    "otu."
   ]
  },
  {
   "cell_type": "code",
   "execution_count": null,
   "id": "27f7a426",
   "metadata": {},
   "outputs": [],
   "source": []
  },
  {
   "cell_type": "code",
   "execution_count": null,
   "id": "06802555",
   "metadata": {},
   "outputs": [],
   "source": []
  }
 ],
 "metadata": {
  "kernelspec": {
   "display_name": "Python 3 (ipykernel)",
   "language": "python",
   "name": "python3"
  },
  "language_info": {
   "codemirror_mode": {
    "name": "ipython",
    "version": 3
   },
   "file_extension": ".py",
   "mimetype": "text/x-python",
   "name": "python",
   "nbconvert_exporter": "python",
   "pygments_lexer": "ipython3",
   "version": "3.8.10"
  }
 },
 "nbformat": 4,
 "nbformat_minor": 5
}
